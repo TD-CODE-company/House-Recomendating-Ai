{
 "cells": [
  {
   "cell_type": "code",
   "execution_count": 7,
   "metadata": {},
   "outputs": [],
   "source": [
    "import pandas as pd\n",
    "from sklearn.tree import DecisionTreeClassifier"
   ]
  },
  {
   "cell_type": "code",
   "execution_count": 83,
   "metadata": {},
   "outputs": [
    {
     "data": {
      "text/plain": [
       "array([['Air Conditioner, 24/7 Electricity and Water, Bathtub, Central Heating and Pool table',\n",
       "        '$700,000.00']], dtype=object)"
      ]
     },
     "execution_count": 83,
     "metadata": {},
     "output_type": "execute_result"
    }
   ],
   "source": [
    "houses = pd.read_csv('houseprices.csv')\n",
    "X = houses.drop(columns=['Price in $','Amenities'])\n",
    "y = houses.drop(columns=['Bedrooms', 'Bathrooms', 'Kitchen quality out of 10', 'Size in SQFT'])\n",
    "model = DecisionTreeClassifier()\n",
    "model.fit(X, y)\n",
    "preds = model.predict([[5, 3, 8, 3000]])\n",
    "preds"
   ]
  }
 ],
 "metadata": {
  "kernelspec": {
   "display_name": "Python 3",
   "language": "python",
   "name": "python3"
  },
  "language_info": {
   "codemirror_mode": {
    "name": "ipython",
    "version": 3
   },
   "file_extension": ".py",
   "mimetype": "text/x-python",
   "name": "python",
   "nbconvert_exporter": "python",
   "pygments_lexer": "ipython3",
   "version": "3.7.6"
  }
 },
 "nbformat": 4,
 "nbformat_minor": 4
}
